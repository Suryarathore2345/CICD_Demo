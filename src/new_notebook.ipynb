{
 "cells": [
  {
   "cell_type": "code",
   "execution_count": null,
   "id": "1a81d457",
   "metadata": {},
   "outputs": [],
   "source": [
    "# Databricks notebook source\n",
    "print(\"Hello from new notebook in dev!\")"
   ]
  }
 ],
 "metadata": {
  "language_info": {
   "name": "python"
  }
 },
 "nbformat": 4,
 "nbformat_minor": 5
}
