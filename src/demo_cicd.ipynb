{
 "cells": [
  {
   "cell_type": "code",
   "execution_count": null,
   "id": "049d5254",
   "metadata": {},
   "outputs": [],
   "source": [
    "print(\"Welcome to CICD Session\")"
   ]
  }
 ],
 "metadata": {
  "language_info": {
   "name": "python"
  }
 },
 "nbformat": 4,
 "nbformat_minor": 5
}
