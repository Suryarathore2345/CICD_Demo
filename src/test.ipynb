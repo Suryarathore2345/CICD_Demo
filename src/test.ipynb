{
 "cells": [
  {
   "cell_type": "code",
   "execution_count": null,
   "id": "7178acfa",
   "metadata": {},
   "outputs": [],
   "source": [
    "print(\"This is a test file to check deployement\")"
   ]
  }
 ],
 "metadata": {
  "language_info": {
   "name": "python"
  }
 },
 "nbformat": 4,
 "nbformat_minor": 5
}
